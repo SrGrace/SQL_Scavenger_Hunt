{
  "cells": [
    {
      "metadata": {
        "_cell_guid": "cec81818-3600-48d7-a19d-dc8409930bfe",
        "_uuid": "554a048d4dcc0b568f36913cbd2684a91c74bdc3"
      },
      "cell_type": "markdown",
      "source": "<table>\n    <tr>\n        <td>\n        <center>\n        <font size=\"+1\">If you haven't used BigQuery datasets on Kaggle previously, check out the <a href = \"https://www.kaggle.com/rtatman/sql-scavenger-hunt-handbook/\">Scavenger Hunt Handbook</a> kernel to get started.</font>\n        </center>\n        </td>\n    </tr>\n</table>\n\n___ \n\n## Previous days:\n\n* [**Day 1:** SELECT, FROM & WHERE](https://www.kaggle.com/rtatman/sql-scavenger-hunt-day-1/)\n* [**Day 2:** GROUP BY, HAVING & COUNT()](https://www.kaggle.com/rtatman/sql-scavenger-hunt-day-2/)\n* [**Day 3:** ORDER BY & Dates](https://www.kaggle.com/rtatman/sql-scavenger-hunt-day-3/)\n* [**Day 4:** WITH & AS](https://www.kaggle.com/rtatman/sql-scavenger-hunt-day-4/)\n\n____\n"
    },
    {
      "metadata": {
        "_cell_guid": "dd8e1d44-3b6b-4734-8b7b-ccd299ae3b55",
        "_uuid": "cd878ab863234c829f6b0c5d40970d6e2e7b05dc"
      },
      "cell_type": "markdown",
      "source": "## JOIN\n___\n\nWhew, we've come a long way from Day 1! By now, you have the tools to get many different configurations of information from a single table. But what if your database has more than one table and you want to look at information from multiple tables?\n\nThat's where JOIN comes in! Today, we're going to learn about how to use JOIN to combine data from two tables. This will let us answer more types of questions. It's also one of the more complex parts of SQL. Don't worry, though, we're going to go through some examples together. \n\n### JOIN\n___\n\nLet's keep working with our imaginary Pets dataset, but this time let's add a second table. The first table, \"Pets\", has three columns, with information on the ID number of each pet, the pet's name and the type of animal it is. The new table, \"Owners\", has three columns, with the ID number of each owner, the name of the owner and the ID number of their pet. \n\n![](https://i.imgur.com/W4gYoNg.png)\n\nEach row in each table is associated with a single pet and we refer to the same pets in both tables. We can tell this because there are two columns (ID in the \"Pets\" table and Pet_ID in the \"Owners\" table) that have the same information in them: the ID number of the pet. We can match rows that have the same value in these columns to get information that applies to a certain pet.\n\nFor example, we can see by looking at the Pets table that the pet that has the ID 1 is named Dr. Harris Bonkers. We can also tell by looking at the Owners table that the name of the owner who owns the pet with the ID 1 is named Aubrey Little. We can use this information to figure out that Dr. Harris Bonkers is owned by Aubrey Little. \n\nFortunately, we don't have to do this by hand to figure out which owner's name goes with which pet name. We can use JOIN to do this for us! JOIN allows us to create a third, new, table that has information from both tables. For example, we might want to have a single table with just two columns: one with the name of the pet and one with the name of the owner. This would look something like this: \n\n![](https://i.imgur.com/zqQdJTI.png)\n\nThe syntax to create that table looks like this:\n\n    SELECT p.Name AS Pet_Name, o.Name as Owner_Name\n    FROM `bigquery-public-data.pet_records.pets` as p\n    INNER JOIN `bigquery-public-data.pet_records.owners` as o ON p.ID = o.Pet_ID\nNotice that since the ID column exists in both datasets, we have to clarify which one we want to use. When you're joining tables, it's a good habit to specificy which table all of your columns come from. That way you don't have to pull up the schema every time you go back to read the query.\n\nThe type of JOIN we're using today is called an INNER JOIN. That just means that a row will only be put in the final output table if the value in the column you're using to combine them shows up in both the tables you're joining. For example, if Tom's ID code of 4 didn't exist in the `Pets` table, we would only get 3 rows back from this query. There are other types of JOIN, but an INNER JOIN won't give you an output that's larger than your input tables, so it's a good one to start with.   \n\n> **What does \"ON\" do?** It says which column in each table to look at to combine the tables. Here were using the \"ID\" column from the Pets table and the \"Pet_ID\" table from the Owners table.\n\nNow that we've talked about the concept behind using JOIN, let's work through an example together."
    },
    {
      "metadata": {
        "_cell_guid": "ef431a97-04fc-49f3-ba4c-8f5a09e915df",
        "_uuid": "d3a4faea2d05628aad3254f0aa5e884899b6d04a"
      },
      "cell_type": "markdown",
      "source": "## Example: How many files are covered by each license?\n____\n\nToday we're going to be using the GitHub Repos dataset. GitHub is an place for people to store & collaborate on different versions of their computer code. A \"repo\" is a collection of code associated with a specific project. \n\nMost public code on Github is shared under a specific license, which determines how it can be used and by who. For our example, we're going to look at how many different files have been released under each licenses. \n\nFirst, of course, we need to get our environment ready to go:"
    },
    {
      "metadata": {
        "_cell_guid": "77af0d7f-ad5e-4296-b2a8-114cd7c228eb",
        "_uuid": "7d374b8d3f3d0014c74ee370038a5f927c2d790a",
        "collapsed": true,
        "trusted": true
      },
      "cell_type": "code",
      "source": "# import package with helper functions \nimport bq_helper\n\n# create a helper object for this dataset\ngithub = bq_helper.BigQueryHelper(active_project=\"bigquery-public-data\",\n                                              dataset_name=\"github_repos\")",
      "execution_count": 1,
      "outputs": []
    },
    {
      "metadata": {
        "_cell_guid": "a2806bda-371b-4c95-92ed-bc70919922b6",
        "_uuid": "a13315b4345edff6264d4bbe0ef16e1db8940d1d"
      },
      "cell_type": "markdown",
      "source": "Now we're ready to get started on our query. This one is going to be a bit of a beast, so stick with me! The only new syntax we'll see is around the JOIN clause, everything is something we've already learned. :)\n\nFirst, I'm going to specify which columns I'd like to be returned in the final table that's returned to me. Here, I'm selecting the COUNT of the \"path\" column from the sample_files table and then calling it \"number_of_files\". I'm *also* specifying that I was to include the \"license\" column, even though there's no \"license\" column in the \"sample_files\" table.\n\n        SELECT L.license, COUNT(sf.path) AS number_of_files\n        FROM `bigquery-public-data.github_repos.sample_files` as sf\nSpeaking of the JOIN clause, we still haven't actually told SQL we want to join anything! To do this, we need to specify what type of join we want (in this case an inner join) and how which columns we want to JOIN ON. Here, I'm using ON to specify that I want to use the \"repo_name\" column from the each table.\n\n    INNER JOIN `bigquery-public-data.github_repos.licenses` as L \n            ON sf.repo_name = L.repo_name\nAnd, finally, we have a GROUP BY and ORDER BY clause that apply to the final table that's been returned to us. We've seen these a couple of times at this point. :)\n\n        GROUP BY license\n        ORDER BY number_of_files DESC\n Alright, that was a lot, but you should have an idea what each part of this query is doing. :) Without any further ado, let' put it into action."
    },
    {
      "metadata": {
        "_cell_guid": "6827dc13-ec68-45f2-9a0d-56612e2849ca",
        "_uuid": "6bc97eef84b58534150aae434df38e1a21348fbb",
        "collapsed": true,
        "trusted": true
      },
      "cell_type": "code",
      "source": "# You can use two dashes (--) to add comments in SQL\nquery = (\"\"\"\n        -- Select all the columns we want in our joined table\n        SELECT L.license, COUNT(sf.path) AS number_of_files\n        FROM `bigquery-public-data.github_repos.sample_files` as sf\n        -- Table to merge into sample_files\n        INNER JOIN `bigquery-public-data.github_repos.licenses` as L \n            ON sf.repo_name = L.repo_name -- what columns should we join on?\n        GROUP BY L.license\n        ORDER BY number_of_files DESC\n        \"\"\")\n\nfile_count_by_license = github.query_to_pandas_safe(query, max_gb_scanned=6)",
      "execution_count": 2,
      "outputs": []
    },
    {
      "metadata": {
        "_cell_guid": "67b338a5-69d5-4dc8-90bf-04cec2459204",
        "_uuid": "6436a3edcdf91ee115c1abf12e6337566274954d"
      },
      "cell_type": "markdown",
      "source": "Whew, that was a big query! But it gave us a nice tidy little table that nicely summarizes how many files have been committed under each license:  "
    },
    {
      "metadata": {
        "_cell_guid": "6b468869-6125-475c-95ef-424a85e06b5b",
        "_uuid": "fe0c791791d501a49bcbcce86948357f552888a3",
        "trusted": true
      },
      "cell_type": "code",
      "source": "# print out all the returned results\nprint(file_count_by_license)",
      "execution_count": 3,
      "outputs": [
        {
          "output_type": "stream",
          "text": "         license  number_of_files\n0        gpl-2.0         22031724\n1            mit         21186498\n2     apache-2.0          7578582\n3        gpl-3.0          5550163\n4   bsd-3-clause          3319394\n5       agpl-3.0          1435105\n6       lgpl-2.1           962034\n7   bsd-2-clause           779810\n8       lgpl-3.0           684163\n9        mpl-2.0           504080\n10       cc0-1.0           437764\n11       epl-1.0           389338\n12     unlicense           209350\n13  artistic-2.0           155854\n14           isc           133570\n",
          "name": "stdout"
        }
      ]
    },
    {
      "metadata": {
        "_cell_guid": "80698da7-8e48-4f68-9913-1c6969b9739a",
        "_uuid": "0d4000d1bca5c05b76960a00f5c8e096a65fda76"
      },
      "cell_type": "markdown",
      "source": "And that's how to get started using JOIN in BigQuery! There are many other kinds of joins (you can [read about some here](https://cloud.google.com/bigquery/docs/reference/standard-sql/query-syntax#join-types)), so once you're very comfortable with INNER JOIN you can start exploring some of them. :)"
    },
    {
      "metadata": {
        "_cell_guid": "d4e528a6-ea14-47ac-a82e-a31c92bbc083",
        "_uuid": "02471d34ed7a800f149a4b757f119d656d7306d0"
      },
      "cell_type": "markdown",
      "source": "# Scavenger hunt\n___\n\nNow it's your turn! Here is the question I would like you to get the data to answer. Just one today, since you've been working hard this week. :)\n\n*  How many commits (recorded in the \"sample_commits\" table) have been made in repos written in the Python programming language? (I'm looking for the number of commits per repo for all the repos written in Python.\n    * You'll want to JOIN the sample_files and sample_commits questions to answer this.\n    * **Hint:** You can figure out which files are written in Python by filtering results from the \"sample_files\" table using `WHERE path LIKE '%.py'`. This will return results where the \"path\" column ends in the text \".py\", which is one way to identify which files have Python code.\n\nIn order to answer these questions, you can fork this notebook by hitting the blue \"Fork Notebook\" at the very top of this page (you may have to scroll up). \"Forking\" something is making a copy of it that you can edit on your own without changing the original."
    },
    {
      "metadata": {
        "_uuid": "8213ae1aa379c05ea0851fe893d04fc43843da7d"
      },
      "cell_type": "markdown",
      "source": "### Q1)  How many commits (recorded in the \"sample_commits\" table) have been made in repos written in the Python programming language? (I'm looking for the number of commits per repo for all the repos written in Python.)"
    },
    {
      "metadata": {
        "trusted": true,
        "_uuid": "daaf1be1c5887c1f945c2366951c493a42e2fa86"
      },
      "cell_type": "code",
      "source": "github.head('sample_files')",
      "execution_count": 4,
      "outputs": [
        {
          "output_type": "execute_result",
          "execution_count": 4,
          "data": {
            "text/plain": "  repo_name                ref  \\\n0   git/git  refs/heads/master   \n1   np/ling  refs/heads/master   \n2   np/ling  refs/heads/master   \n3   np/ling  refs/heads/master   \n4   np/ling  refs/heads/master   \n\n                                                path   mode  \\\n0                                           RelNotes  40960   \n1       tests/success/plug_compose.t/plug_compose.ll  40960   \n2  fixtures/strict-par-success/parallel_assoc_lef...  40960   \n3  fixtures/sequence/parallel_assoc_2tensor2_left.ll  40960   \n4                        fixtures/success/my_dual.ll  40960   \n\n                                         id  \\\n0  62615ffa4e97803da96aefbc798ab50f949a8db7   \n1  0c1605e4b447158085656487dc477f7670c4bac1   \n2  b59bff84ec03d12fabd3b51a27ed7e39a180097e   \n3  f29523e3fb65702d99478e429eac6f801f32152b   \n4  38a3af095088f90dfc956cb990e893909c3ab286   \n\n                           symlink_target  \n0       Documentation/RelNotes/2.10.0.txt  \n1   ../../../fixtures/all/plug_compose.ll  \n2           ../all/parallel_assoc_left.ll  \n3  ../all/parallel_assoc_2tensor2_left.ll  \n4                       ../all/my_dual.ll  ",
            "text/html": "<div>\n<style>\n    .dataframe thead tr:only-child th {\n        text-align: right;\n    }\n\n    .dataframe thead th {\n        text-align: left;\n    }\n\n    .dataframe tbody tr th {\n        vertical-align: top;\n    }\n</style>\n<table border=\"1\" class=\"dataframe\">\n  <thead>\n    <tr style=\"text-align: right;\">\n      <th></th>\n      <th>repo_name</th>\n      <th>ref</th>\n      <th>path</th>\n      <th>mode</th>\n      <th>id</th>\n      <th>symlink_target</th>\n    </tr>\n  </thead>\n  <tbody>\n    <tr>\n      <th>0</th>\n      <td>git/git</td>\n      <td>refs/heads/master</td>\n      <td>RelNotes</td>\n      <td>40960</td>\n      <td>62615ffa4e97803da96aefbc798ab50f949a8db7</td>\n      <td>Documentation/RelNotes/2.10.0.txt</td>\n    </tr>\n    <tr>\n      <th>1</th>\n      <td>np/ling</td>\n      <td>refs/heads/master</td>\n      <td>tests/success/plug_compose.t/plug_compose.ll</td>\n      <td>40960</td>\n      <td>0c1605e4b447158085656487dc477f7670c4bac1</td>\n      <td>../../../fixtures/all/plug_compose.ll</td>\n    </tr>\n    <tr>\n      <th>2</th>\n      <td>np/ling</td>\n      <td>refs/heads/master</td>\n      <td>fixtures/strict-par-success/parallel_assoc_lef...</td>\n      <td>40960</td>\n      <td>b59bff84ec03d12fabd3b51a27ed7e39a180097e</td>\n      <td>../all/parallel_assoc_left.ll</td>\n    </tr>\n    <tr>\n      <th>3</th>\n      <td>np/ling</td>\n      <td>refs/heads/master</td>\n      <td>fixtures/sequence/parallel_assoc_2tensor2_left.ll</td>\n      <td>40960</td>\n      <td>f29523e3fb65702d99478e429eac6f801f32152b</td>\n      <td>../all/parallel_assoc_2tensor2_left.ll</td>\n    </tr>\n    <tr>\n      <th>4</th>\n      <td>np/ling</td>\n      <td>refs/heads/master</td>\n      <td>fixtures/success/my_dual.ll</td>\n      <td>40960</td>\n      <td>38a3af095088f90dfc956cb990e893909c3ab286</td>\n      <td>../all/my_dual.ll</td>\n    </tr>\n  </tbody>\n</table>\n</div>"
          },
          "metadata": {}
        }
      ]
    },
    {
      "metadata": {
        "trusted": true,
        "_uuid": "7bd50e6561f6e1443a461f752521ff1e79078772"
      },
      "cell_type": "code",
      "source": "github.head('sample_commits')",
      "execution_count": 5,
      "outputs": [
        {
          "output_type": "execute_result",
          "execution_count": 5,
          "data": {
            "text/plain": "                                     commit  \\\n0  3eca86e75ec7a7d4b9a9c8091b11676f7bd2a39f   \n1  7158627686f02319c50c8d9d78f75d4c8d126ff2   \n2  9732cafd9dc0206479be919baf0067239f0a63ca   \n3  4702abd3f9728893ad5b0f4389e1902588510459   \n4  57bd4b91a6cfc5bad4c5d829ef85293ea63643ea   \n\n                                       tree  \\\n0  8e1b4380409a85a922ee0d3f622b5dd4d16bcfad   \n1  3b4d781bd966f07cad1b67b137f0ff8b89430e9a   \n2  c8878035ac9cb6dce592957f12dc1723a583989d   \n3  32926e7c55ef585d9b9c174a0e5f9ed13ed6bf7e   \n4  2ffc2066eb7638e185663e9d849663403229d4e5   \n\n                                       parent  \\\n0  [104a0c02e8b1936c049e18a6d4e4ab040fb61213]   \n1  [66aa8d6a145b6a66566b4fce219cc56c3d0e01c3]   \n2  [f3c003f72dfb2497056bcbb864885837a1968ed5]   \n3  [ddf28352b80c86754a6424e3a61e8bdf9213b3c7]   \n4  [f74c95c20bad8e183e41283475f68a3e7b247af4]   \n\n                                              author  \\\n0  {'name': 'Mark Rutland', 'email': '1db9dd262be...   \n1  {'name': 'Will Deacon', 'email': 'b913f13ef92a...   \n2  {'name': 'Jiang Liu', 'email': 'c745fa7b96fe79...   \n3  {'name': 'Nicolas Pitre', 'email': '408789a210...   \n4  {'name': 'Ben Dooks', 'email': '1177f64998f284...   \n\n                                           committer  \\\n0  {'name': 'Catalin Marinas', 'email': '15ce75b2...   \n1  {'name': 'Catalin Marinas', 'email': '15ce75b2...   \n2  {'name': 'Catalin Marinas', 'email': '15ce75b2...   \n3  {'name': 'Arnd Bergmann', 'email': 'f2c659f019...   \n4  {'name': 'Ben Dooks', 'email': '1177f64998f284...   \n\n                                             subject  \\\n0             arm64: Remove fixmap include fragility   \n1  arm64: percpu: implement optimised pcpu access...   \n2  arm64, jump label: optimize jump label impleme...   \n3                           ARM: mach-nuc93x: delete   \n4  [ARM] S3C24XX: Movev udc headers to arch/arm/p...   \n\n                                             message  \\\n0  arm64: Remove fixmap include fragility\\n\\nThe ...   \n1  arm64: percpu: implement optimised pcpu access...   \n2  arm64, jump label: optimize jump label impleme...   \n3  ARM: mach-nuc93x: delete\\n\\nThis architecture ...   \n4  [ARM] S3C24XX: Movev udc headers to arch/arm/p...   \n\n                                             trailer  \\\n0  [{'key': 'Signed-off-by', 'value': 'Mark Rutla...   \n1  [{'key': 'Signed-off-by', 'value': 'Will Deaco...   \n2  [{'key': 'Reviewed-by', 'value': 'Will Deacon ...   \n3  [{'key': 'Signed-off-by', 'value': 'Nicolas Pi...   \n4  [{'key': 'Signed-off-by', 'value': 'Ben Dooks ...   \n\n                                          difference difference_truncated  \\\n0  [{'old_mode': 33188, 'new_mode': 33188, 'old_p...                 None   \n1  [{'old_mode': 33188, 'new_mode': 33188, 'old_p...                 None   \n2  [{'old_mode': 33188, 'new_mode': 33188, 'old_p...                 None   \n3  [{'old_mode': 33188, 'new_mode': 33188, 'old_p...                 None   \n4  [{'old_mode': 33188, 'new_mode': 33188, 'old_p...                 None   \n\n        repo_name encoding  \n0  torvalds/linux     None  \n1  torvalds/linux     None  \n2  torvalds/linux     None  \n3  torvalds/linux     None  \n4  torvalds/linux     None  ",
            "text/html": "<div>\n<style>\n    .dataframe thead tr:only-child th {\n        text-align: right;\n    }\n\n    .dataframe thead th {\n        text-align: left;\n    }\n\n    .dataframe tbody tr th {\n        vertical-align: top;\n    }\n</style>\n<table border=\"1\" class=\"dataframe\">\n  <thead>\n    <tr style=\"text-align: right;\">\n      <th></th>\n      <th>commit</th>\n      <th>tree</th>\n      <th>parent</th>\n      <th>author</th>\n      <th>committer</th>\n      <th>subject</th>\n      <th>message</th>\n      <th>trailer</th>\n      <th>difference</th>\n      <th>difference_truncated</th>\n      <th>repo_name</th>\n      <th>encoding</th>\n    </tr>\n  </thead>\n  <tbody>\n    <tr>\n      <th>0</th>\n      <td>3eca86e75ec7a7d4b9a9c8091b11676f7bd2a39f</td>\n      <td>8e1b4380409a85a922ee0d3f622b5dd4d16bcfad</td>\n      <td>[104a0c02e8b1936c049e18a6d4e4ab040fb61213]</td>\n      <td>{'name': 'Mark Rutland', 'email': '1db9dd262be...</td>\n      <td>{'name': 'Catalin Marinas', 'email': '15ce75b2...</td>\n      <td>arm64: Remove fixmap include fragility</td>\n      <td>arm64: Remove fixmap include fragility\\n\\nThe ...</td>\n      <td>[{'key': 'Signed-off-by', 'value': 'Mark Rutla...</td>\n      <td>[{'old_mode': 33188, 'new_mode': 33188, 'old_p...</td>\n      <td>None</td>\n      <td>torvalds/linux</td>\n      <td>None</td>\n    </tr>\n    <tr>\n      <th>1</th>\n      <td>7158627686f02319c50c8d9d78f75d4c8d126ff2</td>\n      <td>3b4d781bd966f07cad1b67b137f0ff8b89430e9a</td>\n      <td>[66aa8d6a145b6a66566b4fce219cc56c3d0e01c3]</td>\n      <td>{'name': 'Will Deacon', 'email': 'b913f13ef92a...</td>\n      <td>{'name': 'Catalin Marinas', 'email': '15ce75b2...</td>\n      <td>arm64: percpu: implement optimised pcpu access...</td>\n      <td>arm64: percpu: implement optimised pcpu access...</td>\n      <td>[{'key': 'Signed-off-by', 'value': 'Will Deaco...</td>\n      <td>[{'old_mode': 33188, 'new_mode': 33188, 'old_p...</td>\n      <td>None</td>\n      <td>torvalds/linux</td>\n      <td>None</td>\n    </tr>\n    <tr>\n      <th>2</th>\n      <td>9732cafd9dc0206479be919baf0067239f0a63ca</td>\n      <td>c8878035ac9cb6dce592957f12dc1723a583989d</td>\n      <td>[f3c003f72dfb2497056bcbb864885837a1968ed5]</td>\n      <td>{'name': 'Jiang Liu', 'email': 'c745fa7b96fe79...</td>\n      <td>{'name': 'Catalin Marinas', 'email': '15ce75b2...</td>\n      <td>arm64, jump label: optimize jump label impleme...</td>\n      <td>arm64, jump label: optimize jump label impleme...</td>\n      <td>[{'key': 'Reviewed-by', 'value': 'Will Deacon ...</td>\n      <td>[{'old_mode': 33188, 'new_mode': 33188, 'old_p...</td>\n      <td>None</td>\n      <td>torvalds/linux</td>\n      <td>None</td>\n    </tr>\n    <tr>\n      <th>3</th>\n      <td>4702abd3f9728893ad5b0f4389e1902588510459</td>\n      <td>32926e7c55ef585d9b9c174a0e5f9ed13ed6bf7e</td>\n      <td>[ddf28352b80c86754a6424e3a61e8bdf9213b3c7]</td>\n      <td>{'name': 'Nicolas Pitre', 'email': '408789a210...</td>\n      <td>{'name': 'Arnd Bergmann', 'email': 'f2c659f019...</td>\n      <td>ARM: mach-nuc93x: delete</td>\n      <td>ARM: mach-nuc93x: delete\\n\\nThis architecture ...</td>\n      <td>[{'key': 'Signed-off-by', 'value': 'Nicolas Pi...</td>\n      <td>[{'old_mode': 33188, 'new_mode': 33188, 'old_p...</td>\n      <td>None</td>\n      <td>torvalds/linux</td>\n      <td>None</td>\n    </tr>\n    <tr>\n      <th>4</th>\n      <td>57bd4b91a6cfc5bad4c5d829ef85293ea63643ea</td>\n      <td>2ffc2066eb7638e185663e9d849663403229d4e5</td>\n      <td>[f74c95c20bad8e183e41283475f68a3e7b247af4]</td>\n      <td>{'name': 'Ben Dooks', 'email': '1177f64998f284...</td>\n      <td>{'name': 'Ben Dooks', 'email': '1177f64998f284...</td>\n      <td>[ARM] S3C24XX: Movev udc headers to arch/arm/p...</td>\n      <td>[ARM] S3C24XX: Movev udc headers to arch/arm/p...</td>\n      <td>[{'key': 'Signed-off-by', 'value': 'Ben Dooks ...</td>\n      <td>[{'old_mode': 33188, 'new_mode': 33188, 'old_p...</td>\n      <td>None</td>\n      <td>torvalds/linux</td>\n      <td>None</td>\n    </tr>\n  </tbody>\n</table>\n</div>"
          },
          "metadata": {}
        }
      ]
    },
    {
      "metadata": {
        "_cell_guid": "dc5ecdc2-d107-414f-b185-e68ee13f54f0",
        "_uuid": "2c7648bc2e0ecaa97f78fde441e104a570c3bc9c",
        "collapsed": true,
        "trusted": true
      },
      "cell_type": "code",
      "source": "# Your code goes here :)\n\nquery1 = (\"\"\"\n        SELECT sf.repo_name, COUNT(sc.commit) AS num_commits_py\n        FROM `bigquery-public-data.github_repos.sample_files` as sf\n        INNER JOIN `bigquery-public-data.github_repos.sample_commits` as sc \n            ON sf.repo_name = sc.repo_name    \n        WHERE sf.path LIKE '%.py'\n        GROUP BY sf.repo_name\n        ORDER BY num_commits_py DESC\n        \"\"\")\n",
      "execution_count": 6,
      "outputs": []
    },
    {
      "metadata": {
        "_cell_guid": "cbd1f587-cddd-4f06-b4ae-ce215b32ac20",
        "_uuid": "9f231f459e13f0dc2f9347d38cc7c684c0dada18",
        "trusted": true,
        "collapsed": true
      },
      "cell_type": "code",
      "source": "commits_per_py_repo = github.query_to_pandas_safe(query1,  max_gb_scanned=6)\n",
      "execution_count": 7,
      "outputs": []
    },
    {
      "metadata": {
        "trusted": true,
        "_uuid": "e91d31c53bc357582184031f26dd5b1806f4ff1a"
      },
      "cell_type": "code",
      "source": "commits_per_py_repo",
      "execution_count": 8,
      "outputs": [
        {
          "output_type": "execute_result",
          "execution_count": 8,
          "data": {
            "text/plain": "               repo_name  num_commits_py\n0         torvalds/linux        23501556\n1  tensorflow/tensorflow         4128858\n2            apple/swift         4044664\n3         facebook/react           13750\n4       Microsoft/vscode            6909",
            "text/html": "<div>\n<style>\n    .dataframe thead tr:only-child th {\n        text-align: right;\n    }\n\n    .dataframe thead th {\n        text-align: left;\n    }\n\n    .dataframe tbody tr th {\n        vertical-align: top;\n    }\n</style>\n<table border=\"1\" class=\"dataframe\">\n  <thead>\n    <tr style=\"text-align: right;\">\n      <th></th>\n      <th>repo_name</th>\n      <th>num_commits_py</th>\n    </tr>\n  </thead>\n  <tbody>\n    <tr>\n      <th>0</th>\n      <td>torvalds/linux</td>\n      <td>23501556</td>\n    </tr>\n    <tr>\n      <th>1</th>\n      <td>tensorflow/tensorflow</td>\n      <td>4128858</td>\n    </tr>\n    <tr>\n      <th>2</th>\n      <td>apple/swift</td>\n      <td>4044664</td>\n    </tr>\n    <tr>\n      <th>3</th>\n      <td>facebook/react</td>\n      <td>13750</td>\n    </tr>\n    <tr>\n      <th>4</th>\n      <td>Microsoft/vscode</td>\n      <td>6909</td>\n    </tr>\n  </tbody>\n</table>\n</div>"
          },
          "metadata": {}
        }
      ]
    },
    {
      "metadata": {
        "trusted": true,
        "collapsed": true,
        "_uuid": "e8f21a698c48eee87a5b73f883cbf1510247d446"
      },
      "cell_type": "code",
      "source": "commits_per_py_repo.to_csv('commits_per_py_repo.csv')",
      "execution_count": 9,
      "outputs": []
    },
    {
      "metadata": {
        "trusted": true,
        "_uuid": "64ef65756e0ca187a57b198cae2979ff660c08e1"
      },
      "cell_type": "code",
      "source": "import matplotlib.pyplot as plt\nimport seaborn as sns\n\nax = plt.subplots(figsize=(15, 5))\nsns.set_style(\"whitegrid\") \nax = sns.barplot(y=\"num_commits_py\", x=\"repo_name\", data=commits_per_py_repo, palette=\"Blues\")\nplt.title('Commits made in repos written in the Python')\n",
      "execution_count": 23,
      "outputs": [
        {
          "output_type": "execute_result",
          "execution_count": 23,
          "data": {
            "text/plain": "Text(0.5,1,'Commits made in repos written in the Python')"
          },
          "metadata": {}
        },
        {
          "output_type": "display_data",
          "data": {
            "text/plain": "<matplotlib.figure.Figure at 0x7fbf83b2bb70>",
            "image/png": "[encoded data removed]"
          },
          "metadata": {}
        }
      ]
    },
    {
      "metadata": {
        "trusted": true,
        "collapsed": true,
        "_uuid": "cefecb3230b0031d06ce6f6a0c4be9af0699c5ee"
      },
      "cell_type": "code",
      "source": "",
      "execution_count": null,
      "outputs": []
    }
  ],
  "metadata": {
    "language_info": {
      "name": "python",
      "version": "3.6.4",
      "mimetype": "text/x-python",
      "codemirror_mode": {
        "name": "ipython",
        "version": 3
      },
      "pygments_lexer": "ipython3",
      "nbconvert_exporter": "python",
      "file_extension": ".py"
    },
    "kernelspec": {
      "display_name": "Python 3",
      "language": "python",
      "name": "python3"
    }
  },
  "nbformat": 4,
  "nbformat_minor": 1
}